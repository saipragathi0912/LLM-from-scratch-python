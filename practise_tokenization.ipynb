{
 "cells": [
  {
   "cell_type": "code",
   "outputs": [],
   "source": [
    "import re"
   ],
   "metadata": {
    "collapsed": false,
    "ExecuteTime": {
     "end_time": "2024-05-28T17:23:51.122877Z",
     "start_time": "2024-05-28T17:23:51.116145Z"
    }
   },
   "id": "2a13b38df66c1137",
   "execution_count": 1
  },
  {
   "cell_type": "code",
   "outputs": [],
   "source": [
    "with open(\"verdict_plain.txt\", \"r\") as f:\n",
    "    raw_text = f.read()"
   ],
   "metadata": {
    "collapsed": true,
    "ExecuteTime": {
     "end_time": "2024-05-28T17:23:51.748365Z",
     "start_time": "2024-05-28T17:23:51.743105Z"
    }
   },
   "id": "initial_id",
   "execution_count": 2
  },
  {
   "cell_type": "code",
   "outputs": [
    {
     "name": "stdout",
     "output_type": "stream",
     "text": [
      "Total Number of Characters: 13316\n"
     ]
    }
   ],
   "source": [
    "print(\"Total Number of Characters: {}\".format(len(raw_text)))"
   ],
   "metadata": {
    "collapsed": false,
    "ExecuteTime": {
     "end_time": "2024-05-28T17:23:52.247981Z",
     "start_time": "2024-05-28T17:23:52.243775Z"
    }
   },
   "id": "964f3e38f2c94974",
   "execution_count": 3
  },
  {
   "cell_type": "code",
   "outputs": [],
   "source": [
    "def preprocess_data(raw_text):\n",
    "    raw_text = raw_text.replace(\"\\n\", \"\").replace(\"\\t\", \"\")\n",
    "    split_words = re.split(r\"[--]|\\s|\\(|\\)|\\'|[-;,:!.?_]|\\\\|\\\"\", raw_text)\n",
    "    preprocessed_words = []\n",
    "    for word in split_words:\n",
    "        if word and word.strip():\n",
    "            preprocessed_words.append(word)\n",
    "    return preprocessed_words"
   ],
   "metadata": {
    "collapsed": false,
    "ExecuteTime": {
     "end_time": "2024-05-28T17:23:52.725241Z",
     "start_time": "2024-05-28T17:23:52.721817Z"
    }
   },
   "id": "1a5395aafd4cf9e8",
   "execution_count": 4
  },
  {
   "cell_type": "code",
   "outputs": [],
   "source": [
    "def vocabulary(preprocessed_text):\n",
    "    vocab = sorted(list(set(preprocessed_text)))\n",
    "    vocab.extend([\"<|endoftext|>\", \"<|unk|>\"])\n",
    "    print(vocab)\n",
    "    return vocab"
   ],
   "metadata": {
    "collapsed": false,
    "ExecuteTime": {
     "end_time": "2024-05-28T17:38:23.451212Z",
     "start_time": "2024-05-28T17:38:23.446934Z"
    }
   },
   "id": "9738fd0eff52a2b5",
   "execution_count": 15
  },
  {
   "cell_type": "code",
   "outputs": [
    {
     "name": "stdout",
     "output_type": "stream",
     "text": [
      "['A', 'Ah', 'Among', 'And', 'Arrt', 'As', 'Be', 'Burlington', 'But', 'By', 'Carlo', 'Chicago', 'Claude', 'Come', 'Croft', 'Destroyed', 'Don', 'Dubarry', 'Emperors', 'Florence', 'For', 'Gallery', 'Gideon', 'Gisburn', 'Gisburns', 'Grafton', 'Grindle', 'Grindles', 'HAD', 'Had', 'Has', 'He', 'Her', 'Hermia', 'His', 'I', 'If', 'In', 'It', 'Jack', 'Jove', 'Made', 'Miss', 'Money', 'Monte', 'Moon', 'Mr', 'Mrs', 'My', 'Never', 'No', 'Nutley', 'Of', 'Oh', 'On', 'Only', 'Or', 'Perhaps', 'Poor', 'Professional', 'Renaissance', 'Rickham', 'Riviera', 'Rome', 'Russian', 'Sevres', 'She', 'Stroud', 'Strouds', 'That', 'The', 'This', 'Though', 'Thwing', 'Thwings', 'To', 'Usually', 'Venetian', 'Victor', 'Was', 'We', 'Well', 'What', 'When', 'Why', 'Yes', 'You', 'a', 'abdication', 'able', 'about', 'above', 'abruptly', 'absolute', 'absurdity', 'academic', 'accuse', 'accustomed', 'across', 'activity', 'add', 'added', 'admirers', 'adulation', 'after', 'again', 'ago', 'ah', 'air', 'all', 'almost', 'always', 'amazement', 'amid', 'among', 'amplest', 'an', 'and', 'answered', 'any', 'anything', 'apparent', 'apparently', 'appearance', 'appeared', 'appointed', 'arm', 'art', 'articles', 'artist', 'as', 'aside', 'asked', 'at', 'atmosphere', 'atom', 'attention', 'attitude', 'audacities', 'away', 'awful', 'axioms', 'azaleas', 'back', 'background', 'balance', 'balancing', 'balustraded', 'basking', 'bath', 'be', 'beaming', 'bean', 'bear', 'beauty', 'became', 'because', 'becoming', 'been', 'before', 'began', 'begun', 'behind', 'being', 'believed', 'beneath', 'bespoke', 'better', 'between', 'big', 'borne', 'boudoir', 'brac', 'break', 'breaking', 'breathing', 'breeding', 'bric', 'briefly', 'bronzes', 'brought', 'brown', 'brush', 'bull', 'business', 'but', 'buying', 'by', 'called', 'came', 'can', 'canvases', 'caught', 'central', 'century', 'chair', 'chap', 'characteristic', 'charming', 'cheap', 'check', 'cheeks', 'chest', 'chucked', 'cigar', 'circulation', 'circumstance', 'circus', 'claimed', 'cleverer', 'close', 'closets', 'clown', 'clue', 'coat', 'colour', 'come', 'compared', 'complex', 'confident', 'congesting', 'conjugal', 'constraint', 'consummate', 'contended', 'corner', 'corrected', 'cotta', 'could', 'couldn', 'count', 'countenance', 'couple', 'course', 'craft', 'cried', 'crossed', 'cry', 'curiosity', 'curious', 'curtains', 'd', 'dabble', 'damask', 'dancers', 'dark', 'day', 'days', 'dead', 'deadening', 'dear', 'deerhound', 'degree', 'delicate', 'demand', 'denied', 'deploring', 'deprecating', 'deprecatingly', 'destroyed', 'desultory', 'detail', 'diagnosis', 'did', 'didn', 'died', 'dim', 'dimmest', 'dining', 'disarming', 'discovery', 'discrimination', 'discussion', 'disdain', 'disdained', 'disguised', 'display', 'dissatisfied', 'distinguished', 'divert', 'doesn', 'domestic', 'don', 'done', 'donkey', 'down', 'dozen', 'dragged', 'drawing', 'drawn', 'dress', 'drew', 'dropped', 'each', 'ease', 'easel', 'easy', 'economy', 'effect', 'effects', 'efforts', 'eighteenth', 'elegant', 'else', 'embarrassed', 'enabled', 'end', 'endless', 'enjoy', 'enlightenment', 'enough', 'ensuing', 'equally', 'equanimity', 'escape', 'established', 'etching', 'even', 'event', 'ever', 'everlasting', 'every', 'except', 'excuse', 'excusing', 'existed', 'expected', 'exquisite', 'exquisitely', 'extenuation', 'extracting', 'eye', 'eyebrows', 'eyes', 'face', 'fact', 'faded', 'failed', 'fair', 'faith', 'false', 'familiar', 'famille', 'fashionable', 'fate', 'feather', 'feet', 'fell', 'fellow', 'felt', 'few', 'fewer', 'finality', 'find', 'first', 'fit', 'fitting', 'flash', 'florid', 'flowers', 'follow', 'followed', 'fond', 'footstep', 'for', 'forcing', 'forehead', 'foreseen', 'form', 'formed', 'forming', 'fostered', 'found', 'foundations', 'fragment', 'fragments', 'frame', 'frames', 'frequently', 'friend', 'from', 'full', 'fullest', 'furrowed', 'garlanded', 'garlands', 'gave', 'genial', 'genius', 'get', 'give', 'given', 'glanced', 'glimpse', 'gloried', 'glory', 'go', 'going', 'good', 'gradually', 'great', 'greatness', 'grew', 'groping', 'growing', 'had', 'hair', 'half', 'hall', 'hand', 'hands', 'handsome', 'happened', 'hard', 'hardly', 'has', 'have', 'haven', 'having', 'he', 'head', 'hear', 'heard', 'height', 'her', 'here', 'hermit', 'herself', 'hesitations', 'hide', 'him', 'himself', 'hint', 'his', 'history', 'home', 'honour', 'hooded', 'hostess', 'hot', 'hour', 'house', 'how', 'humoured', 'hung', 'husband', 'idea', 'idling', 'if', 'immediately', 'in', 'incense', 'indifferent', 'inevitable', 'inevitably', 'inflexible', 'insensible', 'instinctively', 'instructive', 'interesting', 'into', 'ironic', 'irony', 'irrelevance', 'irrevocable', 'is', 'it', 'its', 'itself', 'jardiniere', 'jealousy', 'just', 'keep', 'kind', 'knees', 'knew', 'know', 'laid', 'lair', 'landing', 'last', 'later', 'latter', 'laugh', 'leading', 'lean', 'least', 'leathery', 'led', 'leisure', 'lends', 'lent', 'let', 'life', 'lift', 'lifted', 'light', 'lightly', 'like', 'liked', 'lines', 'lingered', 'lips', 'lit', 'little', 'live', 'long', 'longed', 'look', 'looked', 'looking', 'lose', 'loss', 'lounging', 'lovely', 'lucky', 'lump', 'luncheon', 'luxury', 'made', 'man', 'manage', 'managed', 'mantel', 'marble', 'married', 'may', 'me', 'mediocrity', 'mentioned', 'mere', 'met', 'might', 'millionaire', 'mine', 'mirrors', 'modest', 'modesty', 'moment', 'money', 'monumental', 'morbidly', 'more', 'most', 'mourn', 'mourned', 'moustache', 'moved', 'much', 'multiplied', 'murmur', 'muscles', 'must', 'my', 'myself', 'mysterious', 'naive', 'near', 'nearly', 'nervousness', 'neutral', 'never', 'next', 'no', 'none', 'not', 'note', 'now', 'nymphs', 'oak', 'obituary', 'object', 'objects', 'occurred', 'oddly', 'of', 'often', 'old', 'on', 'once', 'one', 'only', 'onto', 'open', 'or', 'other', 'out', 'outline', 'oval', 'over', 'own', 'paid', 'paint', 'painted', 'painter', 'painting', 'pale', 'paled', 'palm', 'panel', 'panelled', 'panelling', 'pardonable', 'pardoned', 'part', 'passing', 'past', 'pastels', 'people', 'perceptible', 'perfect', 'persuasively', 'picture', 'pictures', 'piece', 'pines', 'pink', 'place', 'placed', 'plain', 'pockets', 'point', 'poised', 'poor', 'portrait', 'posing', 'predicted', 'presenting', 'presses', 'prestidigitation', 'pretty', 'price', 'pride', 'prism', 'problem', 'proclaiming', 'profusion', 'protest', 'prove', 'public', 'purblind', 'purely', 'pushed', 'put', 'qualities', 'quality', 'quickly', 'quite', 'quote', 'rain', 'raised', 'random', 'rather', 're', 'real', 'really', 'reared', 'reassurance', 'reflected', 'reflection', 'regrets', 'relatively', 'remained', 'reminded', 'repeating', 'represented', 'reproduction', 'resented', 'resolve', 'resources', 'rest', 'rich', 'ridiculous', 'robbed', 'room', 'rooms', 'rose', 'rs', 'rule', 'run', 's', 'said', 'same', 'satisfaction', 'savour', 'saw', 'say', 'saying', 'says', 'scorn', 'see', 'seemed', 'seen', 'self', 'send', 'sensitive', 'sent', 'set', 'sex', 'shade', 'shall', 'she', 'short', 'should', 'shoulders', 'show', 'showed', 'showy', 'shrugged', 'sign', 'silent', 'silver', 'similar', 'simpleton', 'simplifications', 'simply', 'since', 'single', 'sitter', 'sitters', 'sketch', 'skill', 'slight', 'slowly', 'small', 'smile', 'smiling', 'so', 'solace', 'some', 'spacious', 'spaniel', 'speaking', 'speculations', 'spite', 'square', 'stairs', 'stalk', 'stand', 'standing', 'stay', 'still', 'stocked', 'stood', 'stopped', 'straddling', 'strain', 'straining', 'strolled', 'strongest', 'strongly', 'struck', 'studio', 'stuff', 'substantial', 'suburban', 'such', 'suddenly', 'suffered', 'sugar', 'sunburn', 'sunburnt', 'sunlit', 'surest', 'surface', 'surprise', 'surrounded', 'sweetly', 'sweetness', 'swelling', 't', 'table', 'taken', 'tea', 'tears', 'technicalities', 'tempting', 'terra', 'terrace', 'terraces', 'than', 'that', 'the', 'their', 'them', 'then', 'there', 'therefore', 'they', 'thin', 'things', 'think', 'this', 'thither', 'those', 'though', 'thought', 'three', 'threshold', 'through', 'throwing', 'till', 'time', 'timorously', 'tinge', 'tips', 'tired', 'to', 'told', 'tone', 'tones', 'too', 'took', 'touched', 'trace', 'trade', 'transmute', 'travelled', 'trees', 'tribute', 'tributes', 'tricks', 'tried', 'trouser', 'tubes', 'turned', 'unaccountable', 'under', 'underlay', 'unexpected', 'unusual', 'up', 'upon', 'upstairs', 'used', 'value', 'varnishing', 'vases', 've', 'veins', 'velveteen', 'verte', 'very', 'villa', 'vindicated', 'virtuosity', 'vista', 'vocation', 'voice', 'wall', 'want', 'wanted', 'was', 'water', 'waves', 'way', 'weekly', 'weeks', 'welcome', 'went', 'were', 'what', 'when', 'whenever', 'where', 'which', 'while', 'white', 'who', 'whole', 'whom', 'why', 'wide', 'widow', 'wife', 'wincing', 'window', 'with', 'without', 'woman', 'women', 'won', 'wonder', 'wondered', 'word', 'work', 'would', 'wouldn', 'year', 'years', 'yellow', 'yet', 'you', 'younger', 'your', '<|endoftext|>', '<|unk|>']\n"
     ]
    }
   ],
   "source": [
    "preprocessed_text = preprocess_data(raw_text)\n",
    "vocabulary = vocabulary(preprocessed_text)"
   ],
   "metadata": {
    "collapsed": false,
    "ExecuteTime": {
     "end_time": "2024-05-28T17:38:24.435942Z",
     "start_time": "2024-05-28T17:38:24.431148Z"
    }
   },
   "id": "45ffcb90f82a412b",
   "execution_count": 16
  },
  {
   "cell_type": "code",
   "outputs": [
    {
     "data": {
      "text/plain": "['A',\n 'Ah',\n 'Among',\n 'And',\n 'Arrt',\n 'As',\n 'Be',\n 'Burlington',\n 'But',\n 'By',\n 'Carlo',\n 'Chicago',\n 'Claude',\n 'Come',\n 'Croft',\n 'Destroyed',\n 'Don',\n 'Dubarry',\n 'Emperors',\n 'Florence',\n 'For',\n 'Gallery',\n 'Gideon',\n 'Gisburn',\n 'Gisburns',\n 'Grafton',\n 'Grindle',\n 'Grindles',\n 'HAD',\n 'Had',\n 'Has',\n 'He',\n 'Her',\n 'Hermia',\n 'His',\n 'I',\n 'If',\n 'In',\n 'It',\n 'Jack',\n 'Jove',\n 'Made',\n 'Miss',\n 'Money',\n 'Monte',\n 'Moon',\n 'Mr',\n 'Mrs',\n 'My',\n 'Never',\n 'No',\n 'Nutley',\n 'Of',\n 'Oh',\n 'On',\n 'Only',\n 'Or',\n 'Perhaps',\n 'Poor',\n 'Professional',\n 'Renaissance',\n 'Rickham',\n 'Riviera',\n 'Rome',\n 'Russian',\n 'Sevres',\n 'She',\n 'Stroud',\n 'Strouds',\n 'That',\n 'The',\n 'This',\n 'Though',\n 'Thwing',\n 'Thwings',\n 'To',\n 'Usually',\n 'Venetian',\n 'Victor',\n 'Was',\n 'We',\n 'Well',\n 'What',\n 'When',\n 'Why',\n 'Yes',\n 'You',\n 'a',\n 'abdication',\n 'able',\n 'about',\n 'above',\n 'abruptly',\n 'absolute',\n 'absurdity',\n 'academic',\n 'accuse',\n 'accustomed',\n 'across',\n 'activity',\n 'add',\n 'added',\n 'admirers',\n 'adulation',\n 'after',\n 'again',\n 'ago',\n 'ah',\n 'air',\n 'all',\n 'almost',\n 'always',\n 'amazement',\n 'amid',\n 'among',\n 'amplest',\n 'an',\n 'and',\n 'answered',\n 'any',\n 'anything',\n 'apparent',\n 'apparently',\n 'appearance',\n 'appeared',\n 'appointed',\n 'arm',\n 'art',\n 'articles',\n 'artist',\n 'as',\n 'aside',\n 'asked',\n 'at',\n 'atmosphere',\n 'atom',\n 'attention',\n 'attitude',\n 'audacities',\n 'away',\n 'awful',\n 'axioms',\n 'azaleas',\n 'back',\n 'background',\n 'balance',\n 'balancing',\n 'balustraded',\n 'basking',\n 'bath',\n 'be',\n 'beaming',\n 'bean',\n 'bear',\n 'beauty',\n 'became',\n 'because',\n 'becoming',\n 'been',\n 'before',\n 'began',\n 'begun',\n 'behind',\n 'being',\n 'believed',\n 'beneath',\n 'bespoke',\n 'better',\n 'between',\n 'big',\n 'borne',\n 'boudoir',\n 'brac',\n 'break',\n 'breaking',\n 'breathing',\n 'breeding',\n 'bric',\n 'briefly',\n 'bronzes',\n 'brought',\n 'brown',\n 'brush',\n 'bull',\n 'business',\n 'but',\n 'buying',\n 'by',\n 'called',\n 'came',\n 'can',\n 'canvases',\n 'caught',\n 'central',\n 'century',\n 'chair',\n 'chap',\n 'characteristic',\n 'charming',\n 'cheap',\n 'check',\n 'cheeks',\n 'chest',\n 'chucked',\n 'cigar',\n 'circulation',\n 'circumstance',\n 'circus',\n 'claimed',\n 'cleverer',\n 'close',\n 'closets',\n 'clown',\n 'clue',\n 'coat',\n 'colour',\n 'come',\n 'compared',\n 'complex',\n 'confident',\n 'congesting',\n 'conjugal',\n 'constraint',\n 'consummate',\n 'contended',\n 'corner',\n 'corrected',\n 'cotta',\n 'could',\n 'couldn',\n 'count',\n 'countenance',\n 'couple',\n 'course',\n 'craft',\n 'cried',\n 'crossed',\n 'cry',\n 'curiosity',\n 'curious',\n 'curtains',\n 'd',\n 'dabble',\n 'damask',\n 'dancers',\n 'dark',\n 'day',\n 'days',\n 'dead',\n 'deadening',\n 'dear',\n 'deerhound',\n 'degree',\n 'delicate',\n 'demand',\n 'denied',\n 'deploring',\n 'deprecating',\n 'deprecatingly',\n 'destroyed',\n 'desultory',\n 'detail',\n 'diagnosis',\n 'did',\n 'didn',\n 'died',\n 'dim',\n 'dimmest',\n 'dining',\n 'disarming',\n 'discovery',\n 'discrimination',\n 'discussion',\n 'disdain',\n 'disdained',\n 'disguised',\n 'display',\n 'dissatisfied',\n 'distinguished',\n 'divert',\n 'doesn',\n 'domestic',\n 'don',\n 'done',\n 'donkey',\n 'down',\n 'dozen',\n 'dragged',\n 'drawing',\n 'drawn',\n 'dress',\n 'drew',\n 'dropped',\n 'each',\n 'ease',\n 'easel',\n 'easy',\n 'economy',\n 'effect',\n 'effects',\n 'efforts',\n 'eighteenth',\n 'elegant',\n 'else',\n 'embarrassed',\n 'enabled',\n 'end',\n 'endless',\n 'enjoy',\n 'enlightenment',\n 'enough',\n 'ensuing',\n 'equally',\n 'equanimity',\n 'escape',\n 'established',\n 'etching',\n 'even',\n 'event',\n 'ever',\n 'everlasting',\n 'every',\n 'except',\n 'excuse',\n 'excusing',\n 'existed',\n 'expected',\n 'exquisite',\n 'exquisitely',\n 'extenuation',\n 'extracting',\n 'eye',\n 'eyebrows',\n 'eyes',\n 'face',\n 'fact',\n 'faded',\n 'failed',\n 'fair',\n 'faith',\n 'false',\n 'familiar',\n 'famille',\n 'fashionable',\n 'fate',\n 'feather',\n 'feet',\n 'fell',\n 'fellow',\n 'felt',\n 'few',\n 'fewer',\n 'finality',\n 'find',\n 'first',\n 'fit',\n 'fitting',\n 'flash',\n 'florid',\n 'flowers',\n 'follow',\n 'followed',\n 'fond',\n 'footstep',\n 'for',\n 'forcing',\n 'forehead',\n 'foreseen',\n 'form',\n 'formed',\n 'forming',\n 'fostered',\n 'found',\n 'foundations',\n 'fragment',\n 'fragments',\n 'frame',\n 'frames',\n 'frequently',\n 'friend',\n 'from',\n 'full',\n 'fullest',\n 'furrowed',\n 'garlanded',\n 'garlands',\n 'gave',\n 'genial',\n 'genius',\n 'get',\n 'give',\n 'given',\n 'glanced',\n 'glimpse',\n 'gloried',\n 'glory',\n 'go',\n 'going',\n 'good',\n 'gradually',\n 'great',\n 'greatness',\n 'grew',\n 'groping',\n 'growing',\n 'had',\n 'hair',\n 'half',\n 'hall',\n 'hand',\n 'hands',\n 'handsome',\n 'happened',\n 'hard',\n 'hardly',\n 'has',\n 'have',\n 'haven',\n 'having',\n 'he',\n 'head',\n 'hear',\n 'heard',\n 'height',\n 'her',\n 'here',\n 'hermit',\n 'herself',\n 'hesitations',\n 'hide',\n 'him',\n 'himself',\n 'hint',\n 'his',\n 'history',\n 'home',\n 'honour',\n 'hooded',\n 'hostess',\n 'hot',\n 'hour',\n 'house',\n 'how',\n 'humoured',\n 'hung',\n 'husband',\n 'idea',\n 'idling',\n 'if',\n 'immediately',\n 'in',\n 'incense',\n 'indifferent',\n 'inevitable',\n 'inevitably',\n 'inflexible',\n 'insensible',\n 'instinctively',\n 'instructive',\n 'interesting',\n 'into',\n 'ironic',\n 'irony',\n 'irrelevance',\n 'irrevocable',\n 'is',\n 'it',\n 'its',\n 'itself',\n 'jardiniere',\n 'jealousy',\n 'just',\n 'keep',\n 'kind',\n 'knees',\n 'knew',\n 'know',\n 'laid',\n 'lair',\n 'landing',\n 'last',\n 'later',\n 'latter',\n 'laugh',\n 'leading',\n 'lean',\n 'least',\n 'leathery',\n 'led',\n 'leisure',\n 'lends',\n 'lent',\n 'let',\n 'life',\n 'lift',\n 'lifted',\n 'light',\n 'lightly',\n 'like',\n 'liked',\n 'lines',\n 'lingered',\n 'lips',\n 'lit',\n 'little',\n 'live',\n 'long',\n 'longed',\n 'look',\n 'looked',\n 'looking',\n 'lose',\n 'loss',\n 'lounging',\n 'lovely',\n 'lucky',\n 'lump',\n 'luncheon',\n 'luxury',\n 'made',\n 'man',\n 'manage',\n 'managed',\n 'mantel',\n 'marble',\n 'married',\n 'may',\n 'me',\n 'mediocrity',\n 'mentioned',\n 'mere',\n 'met',\n 'might',\n 'millionaire',\n 'mine',\n 'mirrors',\n 'modest',\n 'modesty',\n 'moment',\n 'money',\n 'monumental',\n 'morbidly',\n 'more',\n 'most',\n 'mourn',\n 'mourned',\n 'moustache',\n 'moved',\n 'much',\n 'multiplied',\n 'murmur',\n 'muscles',\n 'must',\n 'my',\n 'myself',\n 'mysterious',\n 'naive',\n 'near',\n 'nearly',\n 'nervousness',\n 'neutral',\n 'never',\n 'next',\n 'no',\n 'none',\n 'not',\n 'note',\n 'now',\n 'nymphs',\n 'oak',\n 'obituary',\n 'object',\n 'objects',\n 'occurred',\n 'oddly',\n 'of',\n 'often',\n 'old',\n 'on',\n 'once',\n 'one',\n 'only',\n 'onto',\n 'open',\n 'or',\n 'other',\n 'out',\n 'outline',\n 'oval',\n 'over',\n 'own',\n 'paid',\n 'paint',\n 'painted',\n 'painter',\n 'painting',\n 'pale',\n 'paled',\n 'palm',\n 'panel',\n 'panelled',\n 'panelling',\n 'pardonable',\n 'pardoned',\n 'part',\n 'passing',\n 'past',\n 'pastels',\n 'people',\n 'perceptible',\n 'perfect',\n 'persuasively',\n 'picture',\n 'pictures',\n 'piece',\n 'pines',\n 'pink',\n 'place',\n 'placed',\n 'plain',\n 'pockets',\n 'point',\n 'poised',\n 'poor',\n 'portrait',\n 'posing',\n 'predicted',\n 'presenting',\n 'presses',\n 'prestidigitation',\n 'pretty',\n 'price',\n 'pride',\n 'prism',\n 'problem',\n 'proclaiming',\n 'profusion',\n 'protest',\n 'prove',\n 'public',\n 'purblind',\n 'purely',\n 'pushed',\n 'put',\n 'qualities',\n 'quality',\n 'quickly',\n 'quite',\n 'quote',\n 'rain',\n 'raised',\n 'random',\n 'rather',\n 're',\n 'real',\n 'really',\n 'reared',\n 'reassurance',\n 'reflected',\n 'reflection',\n 'regrets',\n 'relatively',\n 'remained',\n 'reminded',\n 'repeating',\n 'represented',\n 'reproduction',\n 'resented',\n 'resolve',\n 'resources',\n 'rest',\n 'rich',\n 'ridiculous',\n 'robbed',\n 'room',\n 'rooms',\n 'rose',\n 'rs',\n 'rule',\n 'run',\n 's',\n 'said',\n 'same',\n 'satisfaction',\n 'savour',\n 'saw',\n 'say',\n 'saying',\n 'says',\n 'scorn',\n 'see',\n 'seemed',\n 'seen',\n 'self',\n 'send',\n 'sensitive',\n 'sent',\n 'set',\n 'sex',\n 'shade',\n 'shall',\n 'she',\n 'short',\n 'should',\n 'shoulders',\n 'show',\n 'showed',\n 'showy',\n 'shrugged',\n 'sign',\n 'silent',\n 'silver',\n 'similar',\n 'simpleton',\n 'simplifications',\n 'simply',\n 'since',\n 'single',\n 'sitter',\n 'sitters',\n 'sketch',\n 'skill',\n 'slight',\n 'slowly',\n 'small',\n 'smile',\n 'smiling',\n 'so',\n 'solace',\n 'some',\n 'spacious',\n 'spaniel',\n 'speaking',\n 'speculations',\n 'spite',\n 'square',\n 'stairs',\n 'stalk',\n 'stand',\n 'standing',\n 'stay',\n 'still',\n 'stocked',\n 'stood',\n 'stopped',\n 'straddling',\n 'strain',\n 'straining',\n 'strolled',\n 'strongest',\n 'strongly',\n 'struck',\n 'studio',\n 'stuff',\n 'substantial',\n 'suburban',\n 'such',\n 'suddenly',\n 'suffered',\n 'sugar',\n 'sunburn',\n 'sunburnt',\n 'sunlit',\n 'surest',\n 'surface',\n 'surprise',\n 'surrounded',\n 'sweetly',\n 'sweetness',\n 'swelling',\n 't',\n 'table',\n 'taken',\n 'tea',\n 'tears',\n 'technicalities',\n 'tempting',\n 'terra',\n 'terrace',\n 'terraces',\n 'than',\n 'that',\n 'the',\n 'their',\n 'them',\n 'then',\n 'there',\n 'therefore',\n 'they',\n 'thin',\n 'things',\n 'think',\n 'this',\n 'thither',\n 'those',\n 'though',\n 'thought',\n 'three',\n 'threshold',\n 'through',\n 'throwing',\n 'till',\n 'time',\n 'timorously',\n 'tinge',\n 'tips',\n 'tired',\n 'to',\n 'told',\n 'tone',\n 'tones',\n 'too',\n 'took',\n 'touched',\n 'trace',\n 'trade',\n 'transmute',\n 'travelled',\n 'trees',\n 'tribute',\n 'tributes',\n 'tricks',\n 'tried',\n 'trouser',\n 'tubes',\n 'turned',\n 'unaccountable',\n 'under',\n 'underlay',\n 'unexpected',\n 'unusual',\n 'up',\n 'upon',\n 'upstairs',\n 'used',\n 'value',\n 'varnishing',\n 'vases',\n 've',\n 'veins',\n 'velveteen',\n 'verte',\n 'very',\n 'villa',\n 'vindicated',\n 'virtuosity',\n 'vista',\n 'vocation',\n 'voice',\n 'wall',\n 'want',\n 'wanted',\n 'was',\n 'water',\n 'waves',\n 'way',\n 'weekly',\n 'weeks',\n 'welcome',\n 'went',\n 'were',\n 'what',\n 'when',\n 'whenever',\n 'where',\n 'which',\n 'while',\n 'white',\n 'who',\n 'whole',\n 'whom',\n 'why',\n 'wide',\n 'widow',\n 'wife',\n 'wincing',\n 'window',\n 'with',\n 'without',\n 'woman',\n 'women',\n 'won',\n 'wonder',\n 'wondered',\n 'word',\n 'work',\n 'would',\n 'wouldn',\n 'year',\n 'years',\n 'yellow',\n 'yet',\n 'you',\n 'younger',\n 'your',\n '<|endoftext|>',\n '<|unk|>']"
     },
     "execution_count": 17,
     "metadata": {},
     "output_type": "execute_result"
    }
   ],
   "source": [
    "vocabulary"
   ],
   "metadata": {
    "collapsed": false,
    "ExecuteTime": {
     "end_time": "2024-05-28T17:38:25.651588Z",
     "start_time": "2024-05-28T17:38:25.644391Z"
    }
   },
   "id": "80cfb00c94aa38b6",
   "execution_count": 17
  },
  {
   "cell_type": "code",
   "outputs": [],
   "source": [
    "tokenized_vocab = {token:integer for integer,token in enumerate(vocabulary)}"
   ],
   "metadata": {
    "collapsed": false,
    "ExecuteTime": {
     "end_time": "2024-05-28T17:38:26.602659Z",
     "start_time": "2024-05-28T17:38:26.595047Z"
    }
   },
   "id": "64d09d8a980db342",
   "execution_count": 18
  },
  {
   "cell_type": "code",
   "outputs": [],
   "source": [
    "class Tokenizer:\n",
    "    def __init__(self, vocabulary):\n",
    "        self.str_to_int = vocabulary\n",
    "        self.int_to_str = {integer:token for token,integer in vocabulary.items()}\n",
    "    \n",
    "    def encode(self, text):\n",
    "        split_words = re.split(r\"[--]|\\s|\\(|\\)|\\'|[-;,:!.?_]|\\\\|\\\"\", text)\n",
    "        preprocessed_words = []\n",
    "        for word in split_words:\n",
    "            if word and word.strip():\n",
    "                preprocessed_words.append(word)\n",
    "        preprocessed_words = [item if item in self.str_to_int else \"<|unk|>\" for item in preprocessed_words]\n",
    "        ids = [self.str_to_int[s] for s in preprocessed_words]\n",
    "        return ids\n",
    "    \n",
    "    def decode(self, ids):\n",
    "        text = \" \".join([self.int_to_str[id] for id in ids])\n",
    "        return text"
   ],
   "metadata": {
    "collapsed": false,
    "ExecuteTime": {
     "end_time": "2024-05-28T17:41:01.050390Z",
     "start_time": "2024-05-28T17:41:01.044385Z"
    }
   },
   "id": "3ea9935214a7bd08",
   "execution_count": 19
  },
  {
   "cell_type": "code",
   "outputs": [
    {
     "data": {
      "text/plain": "'<|unk|> would you like to have some tea It s the last he painted you know Mrs Gisburn said'"
     },
     "execution_count": 22,
     "metadata": {},
     "output_type": "execute_result"
    }
   ],
   "source": [
    "tokenizer = Tokenizer(tokenized_vocab)\n",
    "encoded_words = tokenizer.encode(\"\"\"\"Hello would you like to have some tea ? It's the last he painted, you know,\" Mrs. Gisburn said\"\"\")\n",
    "decoded_words = tokenizer.decode(encoded_words)\n",
    "decoded_words"
   ],
   "metadata": {
    "collapsed": false,
    "ExecuteTime": {
     "end_time": "2024-05-28T17:41:24.299829Z",
     "start_time": "2024-05-28T17:41:24.294239Z"
    }
   },
   "id": "90d0c384f99c204d",
   "execution_count": 22
  },
  {
   "cell_type": "code",
   "outputs": [],
   "source": [],
   "metadata": {
    "collapsed": false
   },
   "id": "8b56070d7966287c"
  }
 ],
 "metadata": {
  "kernelspec": {
   "display_name": "Python 3",
   "language": "python",
   "name": "python3"
  },
  "language_info": {
   "codemirror_mode": {
    "name": "ipython",
    "version": 2
   },
   "file_extension": ".py",
   "mimetype": "text/x-python",
   "name": "python",
   "nbconvert_exporter": "python",
   "pygments_lexer": "ipython2",
   "version": "2.7.6"
  }
 },
 "nbformat": 4,
 "nbformat_minor": 5
}
